{
  "cells": [
    {
      "cell_type": "markdown",
      "metadata": {
        "id": "view-in-github",
        "colab_type": "text"
      },
      "source": [
        "<a href=\"https://colab.research.google.com/github/jecoalson/hello-world/blob/master/locality_standardizer.ipynb\" target=\"_parent\"><img src=\"https://colab.research.google.com/assets/colab-badge.svg\" alt=\"Open In Colab\"/></a>"
      ]
    },
    {
      "cell_type": "markdown",
      "metadata": {
        "id": "Qt4uC7-k6XFE"
      },
      "source": [
        "# Sudanese Locality Transliteration Standardizer\n",
        "\n",
        "\n",
        "#### Instructions:\n",
        "\n",
        "1. Your input file must be inserted into this file. To do this, click the folder icon on the left bar of this page. This will open a “Files” tab. Here, you can drag and drop your desired Excel file.\n",
        "2. Then look under the “Inputs and Outputs” tab.\n",
        "3. Now type the file name into the “input_file:” form on the right, spelled exactly the same as the one you dropped in (including the .xlsx extension).\n",
        "4. Now type the sheet name you want to evaluate into the “sheetname:” form on the right, spelled exactly the same as it shows on the Excel document.\n",
        "5. Then type the output file name into the “output_file:” form on the right. This can be any name you would like (ending in .xlsx).\n",
        "\n",
        "To Run File:\n",
        "1. On the top bar of this screen, click the “Runtime” tab.\n",
        "2. From here, select “Run all”.\n",
        "3. Wait a minute or two and it should be finished!\n",
        "4. Once the code is finished, your new output file (whose name you specified before you ran the program) will show up on the left next to your input file.\n",
        "5. From here, you can download the file by double clicking its name.\n",
        "6. Go into your computer downloads to retrieve the file.\n",
        "7. Open the file and enjoy!\n"
      ]
    },
    {
      "cell_type": "markdown",
      "metadata": {
        "id": "SRzeRutxAMfn"
      },
      "source": [
        "# Inputs and Outputs"
      ]
    },
    {
      "cell_type": "code",
      "execution_count": null,
      "metadata": {
        "id": "3oGgL8l2ngU6"
      },
      "outputs": [],
      "source": [
        "input_file = \"Sample 2 Raw.xlsx\" #@param {type:\"string\"}\n",
        "sheetname = \"Sheet1\" #@param {type:\"string\"}\n",
        "output_file = \"Testing.xlsx\" #@param {type:\"string\"}"
      ]
    },
    {
      "cell_type": "markdown",
      "metadata": {
        "id": "CWiSwKhKP8T0"
      },
      "source": [
        "# Imports"
      ]
    },
    {
      "cell_type": "code",
      "execution_count": null,
      "metadata": {
        "colab": {
          "base_uri": "https://localhost:8080/"
        },
        "id": "VBFkO41sG3xN",
        "outputId": "3afa0348-a132-4660-c65b-61ca54ade52b"
      },
      "outputs": [
        {
          "output_type": "stream",
          "name": "stdout",
          "text": [
            "Collecting phonetics\n",
            "  Downloading phonetics-1.0.5.tar.gz (8.8 kB)\n",
            "  Preparing metadata (setup.py) ... \u001b[?25l\u001b[?25hdone\n",
            "Building wheels for collected packages: phonetics\n",
            "  Building wheel for phonetics (setup.py) ... \u001b[?25l\u001b[?25hdone\n",
            "  Created wheel for phonetics: filename=phonetics-1.0.5-py2.py3-none-any.whl size=8696 sha256=585c762de8febff357b3f03a06543a6228ef10f15404788f8a781daea00d4b10\n",
            "  Stored in directory: /root/.cache/pip/wheels/b7/1e/82/80a78c7d1ad7fc6e0af1b4d9009360b251c0e50fe59f046edb\n",
            "Successfully built phonetics\n",
            "Installing collected packages: phonetics\n",
            "Successfully installed phonetics-1.0.5\n",
            "Collecting fuzzywuzzy\n",
            "  Downloading fuzzywuzzy-0.18.0-py2.py3-none-any.whl (18 kB)\n",
            "Installing collected packages: fuzzywuzzy\n",
            "Successfully installed fuzzywuzzy-0.18.0\n",
            "Collecting python-Levenshtein\n",
            "  Downloading python_Levenshtein-0.21.1-py3-none-any.whl (9.4 kB)\n",
            "Collecting Levenshtein==0.21.1 (from python-Levenshtein)\n",
            "  Downloading Levenshtein-0.21.1-cp310-cp310-manylinux_2_17_x86_64.manylinux2014_x86_64.whl (172 kB)\n",
            "\u001b[2K     \u001b[90m━━━━━━━━━━━━━━━━━━━━━━━━━━━━━━━━━━━━━━━\u001b[0m \u001b[32m172.5/172.5 kB\u001b[0m \u001b[31m4.4 MB/s\u001b[0m eta \u001b[36m0:00:00\u001b[0m\n",
            "\u001b[?25hCollecting rapidfuzz<4.0.0,>=2.3.0 (from Levenshtein==0.21.1->python-Levenshtein)\n",
            "  Downloading rapidfuzz-3.1.1-cp310-cp310-manylinux_2_17_x86_64.manylinux2014_x86_64.whl (3.1 MB)\n",
            "\u001b[2K     \u001b[90m━━━━━━━━━━━━━━━━━━━━━━━━━━━━━━━━━━━━━━━━\u001b[0m \u001b[32m3.1/3.1 MB\u001b[0m \u001b[31m45.3 MB/s\u001b[0m eta \u001b[36m0:00:00\u001b[0m\n",
            "\u001b[?25hInstalling collected packages: rapidfuzz, Levenshtein, python-Levenshtein\n",
            "Successfully installed Levenshtein-0.21.1 python-Levenshtein-0.21.1 rapidfuzz-3.1.1\n",
            "Collecting pyphonetics\n",
            "  Downloading pyphonetics-0.5.3-py2.py3-none-any.whl (10 kB)\n",
            "Collecting unidecode<2,>=1 (from pyphonetics)\n",
            "  Downloading Unidecode-1.3.6-py3-none-any.whl (235 kB)\n",
            "\u001b[2K     \u001b[90m━━━━━━━━━━━━━━━━━━━━━━━━━━━━━━━━━━━━━━━\u001b[0m \u001b[32m235.9/235.9 kB\u001b[0m \u001b[31m4.8 MB/s\u001b[0m eta \u001b[36m0:00:00\u001b[0m\n",
            "\u001b[?25hInstalling collected packages: unidecode, pyphonetics\n",
            "Successfully installed pyphonetics-0.5.3 unidecode-1.3.6\n",
            "Requirement already satisfied: openpyxl in /usr/local/lib/python3.10/dist-packages (3.0.10)\n",
            "Requirement already satisfied: et-xmlfile in /usr/local/lib/python3.10/dist-packages (from openpyxl) (1.1.0)\n"
          ]
        }
      ],
      "source": [
        "!pip install phonetics\n",
        "!pip install fuzzywuzzy\n",
        "!pip install python-Levenshtein\n",
        "!pip install pyphonetics\n",
        "!pip install openpyxl\n",
        "\n",
        "from collections import defaultdict"
      ]
    },
    {
      "cell_type": "code",
      "execution_count": null,
      "metadata": {
        "id": "kry2uK1kTI2P"
      },
      "outputs": [],
      "source": [
        "import doctest\n",
        "from phonetics import metaphone, nysiis\n",
        "from fuzzywuzzy import fuzz, process, utils\n",
        "import math"
      ]
    },
    {
      "cell_type": "markdown",
      "metadata": {
        "id": "0Ha12lmhHbFK"
      },
      "source": [
        "\n",
        "# Mappings and Datasets"
      ]
    },
    {
      "cell_type": "code",
      "execution_count": null,
      "metadata": {
        "id": "QKLG7IqhG_uI"
      },
      "outputs": [],
      "source": [
        "# GEOGRAPHIC TERMS ENGLISH TO ARABIC MAPPING\n",
        "\n",
        "\"\"\"\n",
        "add to this list of terms as you see fit/encounter new substitutions\n",
        "\n",
        "this mapping is fed into the tr_geo_terms() function and contributes an accuracy\n",
        "increase of about 5% by standardizing words into arabic before generating\n",
        "phonetic codes\n",
        "\n",
        "convention is \"english\": \"arabic_xliterated\" because of the higher likelihood\n",
        "that if the english term is used, it will be spelt uniformly...\n",
        "\n",
        "-> increases mapping efficacy\n",
        "\"\"\"\n",
        "\n",
        "GEO_TERMS = {\n",
        "    'north': 'hamal',\n",
        "    'south': 'janub',\n",
        "    'east': 'sharq',\n",
        "    'west': 'gharb',\n",
        "    'central': 'wasat',\n",
        "    'city': 'madina',\n",
        "    'municipality': 'baladiya',\n",
        "    'valley': 'wad',\n",
        "    'river': 'nahr',\n",
        "    'mountains': 'jabil',\n",
        "    'desert': 'sahara',\n",
        "    'sea': 'bahr',\n",
        "    'new': 'jadid',\n",
        "    'rural': 'reifi',\n",
        "    'center': 'wasat,',\n",
        "    'the': 'al',\n",
        "    'madeinat' : '',\n",
        "    'nourth': 'hamal',\n",
        "    'weast': 'gharb',\n",
        "}"
      ]
    },
    {
      "cell_type": "code",
      "execution_count": null,
      "metadata": {
        "id": "EnDdTzyaeX5_"
      },
      "outputs": [],
      "source": [
        "# MASTER MAPPING OF LOCALITIES\n",
        "# NOTE: EDIT HERE when localities change and shift\n",
        "\n",
        "MASTER_MAPPING = [\n",
        "    'Aj Jazirah--Al Hasahisa', 'Aj Jazirah--Al Kamlin',\n",
        "    'Aj Jazirah--Al Manaqil', 'Aj Jazirah--Al Qurashi',\n",
        "    'Aj Jazirah--Janub Al Jazirah', 'Aj Jazirah--Medani Al Kubra',\n",
        "    'Aj Jazirah--Um Algura', 'Aj Jazirah--Sharg Al Jazirah', 'Blue Nile--Baw',\n",
        "    'Blue Nile--Ed Damazine', 'Blue Nile--Al Kurmuk', 'Blue Nile--Ar Rusayris',\n",
        "    'Blue Nile--Wad Al Mahi', 'Blue Nile--At Tadamon - BN',\n",
        "    'Blue Nile--Geisan', 'Central Darfur--Azum', 'Central Darfur--Bendasi',\n",
        "    'Central Darfur--Mukjar', 'Central Darfur--Gharb Jabal Marrah',\n",
        "    'Central Darfur--Shamal Jabal Marrah',\n",
        "    'Central Darfur--Wasat Jabal Marrah', 'Central Darfur--Um Dukhun',\n",
        "    'Central Darfur--Wadi Salih', 'Central Darfur--Zalingi',\n",
        "    'East Darfur--Abu Jabrah', 'East Darfur--Abu Karinka',\n",
        "    'East Darfur--Adila', 'East Darfur--Assalaya', 'East Darfur--Bahr Al Arab',\n",
        "    \"East Darfur--Ad Du'ayn\", 'East Darfur--Al Firdous',\n",
        "    \"East Darfur--Shia'ria\", 'East Darfur--Yassin', 'Gedaref--Al Fao',\n",
        "    'Gedaref--Al Qureisha', 'Gedaref--Ar Rahad', 'Gedaref--Al Mafaza',\n",
        "    'Gedaref--Al Butanah', 'Gedaref--Al Fashaga',\n",
        "    'Gedaref--Al Galabat Al Gharbyah - Kassab',\n",
        "    'Gedaref--Galabat Ash-Shargiah', 'Gedaref--Basundah',\n",
        "    \"Gedaref--Gala'a Al Nahal\", 'Gedaref--Madeinat Al Gedaref',\n",
        "    'Gedaref--Wasat Al Gedaref', 'Kassala--Halfa Aj Jadeedah',\n",
        "    'Kassala--Madeinat Kassala', 'Kassala--Reifi Aroma',\n",
        "    'Kassala--Reifi Hamashkureib', 'Kassala--Reifi Kassla',\n",
        "    'Kassala--Reifi Gharb Kassala', 'Kassala--Reifi Khashm Elgirba',\n",
        "    'Kassala--Reifi Nahr Atbara', 'Kassala--Reifi Shamal Ad Delta',\n",
        "    'Kassala--Reifi Telkok', 'Kassala--Reifi Wad Elhilaiw', 'Khartoum--Bahri',\n",
        "    'Khartoum--Khartoum', 'Khartoum--Jebel Awlia', 'Khartoum--Karrari',\n",
        "    'Khartoum--Um Bada', 'Khartoum--Um Durman', 'Khartoum--Sharg An Neel',\n",
        "    'River Nile--Abu Hamad', 'River Nile--Al Buhaira', 'River Nile--Atbara',\n",
        "    'River Nile--Barbar', 'River Nile--Ad Damar', 'River Nile--Al Matama',\n",
        "    'River Nile--Shendi', 'North Darfur--Al Lait',\n",
        "    'North Darfur--Dar As Salam', 'North Darfur--Al Fasher',\n",
        "    'North Darfur--Al Koma', 'North Darfur--Al Malha',\n",
        "    'North Darfur--As Serief', 'North Darfur--At Tawisha',\n",
        "    'North Darfur--At Tina', 'North Darfur--Kelemando',\n",
        "    'North Darfur--Kebkabiya', 'North Darfur--Kernoi', 'North Darfur--Kutum',\n",
        "    'North Darfur--Melit', 'North Darfur--Saraf Omra', 'North Darfur--Tawila',\n",
        "    'North Darfur--Um Baru', 'North Darfur--Um Kadadah', 'Northern--Delgo',\n",
        "    'Northern--Dongola', 'Northern--Al Burgaig', 'Northern--Al Golid',\n",
        "    'Northern--Ad Dabbah', 'Northern--Halfa', 'Northern--Merwoe',\n",
        "    'North Kordofan--Bara', 'North Kordofan--Gharb Bara',\n",
        "    'North Kordofan--Gebrat Al Sheikh', 'North Kordofan--Um Rawaba',\n",
        "    'North Kordofan--Um Dam Haj Ahmed', 'North Kordofan--Ar Rahad',\n",
        "    'North Kordofan--Sheikan', 'North Kordofan--Soudari', 'Red Sea--Agig',\n",
        "    'Red Sea--Al Ganab', \"Red Sea--Hala'ib\", \"Red Sea--Jubayt Elma'aadin\",\n",
        "    'Red Sea--Haya', 'Red Sea--Dordieb', 'Red Sea--Port Sudan',\n",
        "    'Red Sea--Sawakin', 'Red Sea--Sinkat', 'Red Sea--Tawkar',\n",
        "    'Sennar--Abu Hujar', 'Sennar--Ad Dali', 'Sennar--Ad Dinder',\n",
        "    'Sennar--As Suki', 'Sennar--Sharg Sennar', 'Sennar--Sennar',\n",
        "    'Sennar--Sinja', 'South Darfur--Al Wihda', 'South Darfur--Beliel',\n",
        "    'South Darfur--Buram', 'South Darfur--Damso', 'South Darfur--Ed Al Fursan',\n",
        "    'South Darfur--Al Radoum', 'South Darfur--As Salam - SD',\n",
        "    'South Darfur--Gereida', 'South Darfur--Kas', 'South Darfur--Kateila',\n",
        "    'South Darfur--Kubum', 'South Darfur--Mershing', 'South Darfur--Nitega',\n",
        "    'South Darfur--Nyala Janoub', 'South Darfur--Nyala Shimal',\n",
        "    'South Darfur--Rehaid Albirdi', 'South Darfur--Sharg Aj Jabal',\n",
        "    'South Darfur--Shattaya', 'South Darfur--As Sunta', 'South Darfur--Tulus',\n",
        "    'South Darfur--Um Dafoug', 'South Kordofan--Abu Jubayhah',\n",
        "    'South Kordofan--At Tadamon - SK', 'South Kordofan--Al Quoz',\n",
        "    'South Kordofan--Dilling', 'South Kordofan--Habila - SK',\n",
        "    'South Kordofan--Delami', 'South Kordofan--Ar Rashad',\n",
        "    'South Kordofan--Abu Kershola', 'South Kordofan--Abassiya',\n",
        "    'South Kordofan--Kadugli', 'South Kordofan--Ar Reif Ash Shargi',\n",
        "    'South Kordofan--Heiban', 'South Kordofan--Um Durein',\n",
        "    'South Kordofan--Al Buram', 'South Kordofan--Talawdi',\n",
        "    'South Kordofan--Al Leri', 'South Kordofan--Ghadeer', 'West Darfur--Beida',\n",
        "    'West Darfur--Ag Geneina', 'West Darfur--Foro Baranga',\n",
        "    'West Darfur--Habila - WD', 'West Darfur--Jebel Moon',\n",
        "    'West Darfur--Kereneik', 'West Darfur--Kulbus', 'West Darfur--Sirba',\n",
        "    'West Kordofan--Abu Zabad', 'West Kordofan--Al Khiwai',\n",
        "    'West Kordofan--Abyei PCA area', 'West Kordofan--Abyei',\n",
        "    'West Kordofan--Al Meiram', 'West Kordofan--Al Dibab',\n",
        "    'West Kordofan--An Nuhud', 'West Kordofan--As Salam - WK',\n",
        "    'West Kordofan--Babanusa', 'West Kordofan--Ghubaish',\n",
        "    'West Kordofan--Al Idia', 'West Kordofan--Keilak',\n",
        "    'West Kordofan--Al Lagowa', 'West Kordofan--As Sunut',\n",
        "    'West Kordofan--Wad Bandah', 'White Nile--Ad Diwaim',\n",
        "    'White Nile--Al Gitaina', 'White Nile--Aj Jabalain',\n",
        "    'White Nile--As Salam / Ar Rawat', 'White Nile--Kosti', 'White Nile--Guli',\n",
        "    'White Nile--Um Rimta', 'White Nile--Rabak', 'White Nile--Tendalti'\n",
        "]"
      ]
    },
    {
      "cell_type": "code",
      "execution_count": null,
      "metadata": {
        "id": "7PX7BKz5IlYa"
      },
      "outputs": [],
      "source": [
        "# STATE NAMES\n",
        "\n",
        "\"\"\"\n",
        "set containing the state names\n",
        "\n",
        "NOTE: STATES is dynamically computed - change only the MASTER_MAPPING above\n",
        "\"\"\"\n",
        "\n",
        "STATES = { state.split(\"--\")[0] for state in MASTER_MAPPING} # dynamic mapping\n",
        "\n",
        "# STATES = {'White Nile', 'River Nile', 'Northern', 'Central Darfur', 'Red Sea', 'East Darfur', 'North Kordofan',\n",
        "#           'Sennar', 'South Kordofan', 'West Kordofan', 'Kassala', 'Blue Nile', 'North Darfur', 'South Darfur', 'West Darfur', 'Gedaref', 'Aj Jazirah', 'Khartoum'}"
      ]
    },
    {
      "cell_type": "code",
      "execution_count": null,
      "metadata": {
        "id": "WDh3kQ51HyqA"
      },
      "outputs": [],
      "source": [
        "# PROVINCE NAMES\n",
        "\n",
        "\"\"\"\n",
        "dictionary containing the provinces in each state\n",
        "\n",
        "NOTE: PROVINCES is dynamically computed - change only the MASTER_MAPPING above\n",
        "\"\"\"\n",
        "\n",
        "PROVINCES = defaultdict(list)\n",
        "\n",
        "for line in MASTER_MAPPING:\n",
        "  state, locality = line.split(\"--\")\n",
        "  PROVINCES[state].append(locality)\n",
        "\n",
        "# PROVINCES = {'Aj Jazirah': ['Al Hasahisa', 'Al Kamlin', 'Al Manaqil', 'Al Qurashi', 'Janub Al Jazirah', 'Medani Al Kubra', 'Um Algura', 'Sharg Al Jazirah'],\n",
        "#           'Blue Nile': ['Baw', 'Ed Damazine', 'Al Kurmuk', 'Ar Rusayris', 'Wad Al Mahi', 'At Tadamon - BN', 'Geisan'],\n",
        "#           'Central Darfur': ['Azum', 'Bendasi', 'Mukjar', 'Gharb Jabal Marrah', 'Shamal Jabal Marrah', 'Wasat Jabal Marrah', 'Um Dukhun', 'Wadi Salih', 'Zalingi'],\n",
        "#           'East Darfur': ['Abu Jabrah', 'Abu Karinka', 'Adila', 'Assalaya', 'Bahr Al Arab', \"Ad Du'ayn\", 'Al Firdous', \"Shia'ria\", 'Yassin'],\n",
        "#           'Gedaref': ['Al Fao', 'Al Qureisha', 'Ar Rahad', 'Al Mafaza', 'Al Butanah', 'Al Fashaga', 'Al Galabat Al Gharbyah - Kassab', 'Galabat Ash-Shargiah', 'Basundah', \"Gala'a Al Nahal\", 'Madeinat Al Gedaref', 'Wasat Al Gedaref'],\n",
        "#           'Kassala': ['Halfa Aj Jadeedah', 'Madeinat Kassala', 'Reifi Aroma', 'Reifi Hamashkureib', 'Reifi Kassla', 'Reifi Gharb Kassala', 'Reifi Khashm Elgirba', 'Reifi Nahr Atbara', 'Reifi Shamal Ad Delta', 'Reifi Telkok', 'Reifi Wad Elhilaiw'],\n",
        "#           'Khartoum': ['Bahri', 'Khartoum', 'Jebel Awlia', 'Karrari', 'Um Bada', 'Um Durman', 'Sharg An Neel'],\n",
        "#           'River Nile': ['Abu Hamad', 'Al Buhaira', 'Atbara', 'Barbar', 'Ad Damar', 'Al Matama', 'Shendi'],\n",
        "#           'North Darfur': ['Al Lait', 'Dar As Salam', 'Al Fasher', 'Al Koma', 'Al Malha', 'As Serief', 'At Tawisha', 'At Tina', 'Kelemando', 'Kebkabiya', 'Kernoi', 'Kutum', 'Melit', 'Saraf Omra', 'Tawila', 'Um Baru', 'Um Kadadah'],\n",
        "#           'Northern': ['Delgo', 'Dongola', 'Al Burgaig', 'Al Golid', 'Ad Dabbah', 'Halfa', 'Merwoe'],\n",
        "#           'North Kordofan': ['Bara', 'Gharb Bara', 'Gebrat Al Sheikh', 'Um Rawaba', 'Um Dam Haj Ahmed', 'Ar Rahad', 'Sheikan', 'Soudari'],\n",
        "#           'Red Sea': ['Agig', 'Al Ganab', \"Hala'ib\", \"Jubayt Elma'aadin\", 'Haya', 'Dordieb', 'Port Sudan', 'Sawakin', 'Sinkat', 'Tawkar'],\n",
        "#           'Sennar': ['Abu Hujar', 'Ad Dali', 'Ad Dinder', 'As Suki', 'Sharg Sennar', 'Sennar', 'Sinja'],\n",
        "#           'South Darfur': ['Al Wihda', 'Beliel', 'Buram', 'Damso', 'Ed Al Fursan', 'Al Radoum', 'As Salam - SD', 'Gereida',\n",
        "#                            'Kas', 'Kateila', 'Kubum', 'Mershing', 'Nitega', 'Nyala Janoub', 'Nyala Shimal', 'Rehaid Albirdi', 'Sharg Aj Jabal', 'Shattaya', 'As Sunta', 'Tulus', 'Um Dafoug'],\n",
        "#           'South Kordofan': ['Abu Jubayhah', 'At Tadamon - SK', 'Al Quoz', 'Dilling', 'Habila - SK', 'Delami', 'Ar Rashad',\n",
        "#                              'Abu Kershola', 'Abassiya', 'Kadugli', 'Ar Reif Ash Shargi', 'Heiban', 'Um Durein', 'Al Buram', 'Talawdi', 'Al Leri', 'Ghadeer'],\n",
        "#           'West Darfur': ['Beida', 'Ag Geneina', 'Foro Baranga', 'Habila - WD', 'Jebel Moon', 'Kereneik', 'Kulbus', 'Sirba'],\n",
        "#           'West Kordofan': ['Abu Zabad', 'Al Khiwai', 'Abyei PCA area', 'Abyei', 'Al Meiram', 'Al Dibab', 'An Nuhud', 'As Salam - WK', 'Babanusa', 'Ghubaish', 'Al Idia', 'Keilak', 'Al Lagowa', 'As Sunut', 'Wad Bandah'],\n",
        "#           'White Nile': ['Ad Diwaim', 'Al Gitaina', 'Aj Jabalain', 'As Salam / Ar Rawat', 'Kosti', 'Guli', 'Um Rimta', 'Rabak', 'Tendalti']}"
      ]
    },
    {
      "cell_type": "markdown",
      "metadata": {
        "id": "bMVdcWtKH40S"
      },
      "source": [
        "# Processing Fuctions"
      ]
    },
    {
      "cell_type": "code",
      "execution_count": null,
      "metadata": {
        "colab": {
          "base_uri": "https://localhost:8080/"
        },
        "id": "WsLFs8qhH4bC",
        "outputId": "b11c508e-2b54-49cc-9608-bce7fe2d67fc"
      },
      "outputs": [
        {
          "output_type": "execute_result",
          "data": {
            "text/plain": [
              "TestResults(failed=0, attempted=3)"
            ]
          },
          "metadata": {},
          "execution_count": 13
        }
      ],
      "source": [
        "def tr_geo_terms(s: str):\n",
        "  \"\"\" replace any instances of english geographical terms with arabic\n",
        "\n",
        "  >>> tr_geo_terms(\"River Atbara\")\n",
        "  'nahr Atbara'\n",
        "\n",
        "  >>> tr_geo_terms(\"North Dalta\")\n",
        "  'hamal Dalta'\n",
        "\n",
        "  >>> tr_geo_terms('Saraf Omra')\n",
        "  'Saraf Omra'\n",
        "  \"\"\"\n",
        "\n",
        "  return \" \".join(\n",
        "      GEO_TERMS.get(fragment.lower(), fragment) for fragment in s.split()\n",
        "  )\n",
        "\n",
        "doctest.testmod()"
      ]
    },
    {
      "cell_type": "code",
      "execution_count": null,
      "metadata": {
        "id": "udrTYtsOSgsT"
      },
      "outputs": [],
      "source": [
        "def confidence_score(scores):\n",
        "\n",
        "  # Set maxSim to the best similarity found\n",
        "  maxSim = max(scores)\n",
        "\n",
        "  # Calculate the denominator\n",
        "  den = sum([math.exp(1 - math.pow(maxSim / score, 3)) for score in scores])\n",
        "\n",
        "  # Calculate the confidence score for each score\n",
        "  confidences = [math.exp(1 - math.pow(maxSim / score, 3)) / den for score in scores]\n",
        "\n",
        "  return confidences"
      ]
    },
    {
      "cell_type": "code",
      "execution_count": null,
      "metadata": {
        "id": "rGIriYAjCvhn"
      },
      "outputs": [],
      "source": [
        "def custom_scorer(s1_raw: str, s2_raw: str) -> int:\n",
        "  \"\"\"\n",
        "  return a measure of the sequences' similarity between 0 and 100, using different algorithms.\n",
        "\n",
        "  passed as an argument to process.extract* functions in order to define a custom\n",
        "  set of criteria for determining string similarity\n",
        "\n",
        "  steps:\n",
        "  1. process strings (remove whitespace, non-alpha, etc.) and check for corner cases\n",
        "  2. replace geo terms if present\n",
        "  3. compute baseline score using only fuzzy match\n",
        "  4. compute similarity score using fuzzy on phonetic codes\n",
        "  5. return a weighted average of phonetics and fuzzy\n",
        "\n",
        "  areas for improvement: missing words in name,\n",
        "  differentiating same name in different states\n",
        "  \"\"\"\n",
        "\n",
        "  s1, s2 = tuple(map(utils.full_process, (s1_raw, s2_raw)))\n",
        "\n",
        "  if not s1 or not s2:\n",
        "    print(s1_raw, s2_raw)\n",
        "    return 1 # returning 1 instead of 0 to not break confidence score algorithm\n",
        "\n",
        "  s1, s2 = tr_geo_terms(s1), tr_geo_terms(s2) # 3. substitution of terms added 5 percent accuracy\n",
        "\n",
        "  fuzzy_similarity = fuzz.token_sort_ratio(s1,s2) # 1. added 11 percent accuracy\n",
        "\n",
        "  phonetic_similarity = fuzz.ratio(\n",
        "      metaphone(s1), metaphone(s2)\n",
        "  )\n",
        "\n",
        "  # 2. weighted factor added 5%\n",
        "  return int(fuzzy_similarity * 0.67 + phonetic_similarity * 0.33)"
      ]
    },
    {
      "cell_type": "code",
      "execution_count": null,
      "metadata": {
        "colab": {
          "base_uri": "https://localhost:8080/"
        },
        "id": "RjXi6vWMrukE",
        "outputId": "a646b659-28e6-413c-bfbb-151ad3ac6b9f"
      },
      "outputs": [
        {
          "output_type": "execute_result",
          "data": {
            "text/plain": [
              "[('Ad Dabbah', 0.9999937136126912)]"
            ]
          },
          "metadata": {},
          "execution_count": 11
        }
      ],
      "source": [
        "def get_prediction(inputs, standards):\n",
        "  \"\"\"\n",
        "  given a list of inputs, returns a tuple-list of predictions and confidence score\n",
        "  \"\"\"\n",
        "\n",
        "  output = []\n",
        "\n",
        "  for locality in inputs:\n",
        "    guesses_raw = process.extractBests(locality, standards, scorer=custom_scorer, limit=7)\n",
        "\n",
        "    guesses = [ guess for guess in guesses_raw if guess[-1]]\n",
        "\n",
        "    confidences = confidence_score(\n",
        "        list(map(lambda x: x[-1], guesses))\n",
        "    )\n",
        "\n",
        "    guess = guesses[0][0]\n",
        "    confidence = confidences[0]\n",
        "\n",
        "    #print(f\"predicted *{guess}* with confidence of {confidences[0] * 100:.2f}% {'correctly' if guess == labeled_inputs.get(locality) else 'incorrectly'}\")\n",
        "\n",
        "    output.append(\n",
        "        (guess, confidence)\n",
        "    )\n",
        "\n",
        "  return output\n",
        "\n",
        "fuzz.WRatio('Addabah', 'Merwoe')\n",
        "get_prediction(['Addabah'], ['Delgo', 'Dongola', 'Al Burgaig', 'Al Golid', 'Ad Dabbah', 'Halfa', 'Merwoe'])"
      ]
    },
    {
      "cell_type": "markdown",
      "metadata": {
        "id": "3fSM_nb9QSXX"
      },
      "source": [
        "# Implementation"
      ]
    },
    {
      "cell_type": "code",
      "execution_count": null,
      "metadata": {
        "id": "OjibR0kjoyOy"
      },
      "outputs": [],
      "source": [
        "import openpyxl\n",
        "from openpyxl import load_workbook\n",
        "from openpyxl import styles\n",
        "from openpyxl.styles import Color, PatternFill, Font, Border\n",
        "from copy import copy\n",
        "\n",
        "# load the excel file into a workbook\n",
        "dataframe = load_workbook(filename=input_file)\n",
        "\n",
        "# find the sheet that the user specified\n",
        "for sheet in range(len(dataframe.sheetnames)):\n",
        "    if dataframe.sheetnames[sheet] == sheetname:\n",
        "        break\n",
        "\n",
        "dataframe.active = sheet\n",
        "sheet = dataframe.active\n",
        "\n",
        "# extra filtering\n",
        "regions = {\"C \": \"Central \", \"S \": \"South \", \"N \": \"North \", \"W \": \"West \", \"E \": \"East \"}\n",
        "\n",
        "# intialize variables\n",
        "header = True\n",
        "districts   = []\n",
        "provinces  = []\n",
        "count = 0\n",
        "\n",
        "# iterate through the columns in the excel file and extract the province and state name,\n",
        "# adding them to the provinces and districts list, respectively\n",
        "for value in sheet.iter_rows(min_col=1, max_col=2, values_only=True):\n",
        "  # skip the header\n",
        "  if header:\n",
        "    header = False\n",
        "    continue\n",
        "  # stop iterating when empty cells are reached\n",
        "  if value[0] == None or value[1] == None:\n",
        "    break\n",
        "\n",
        "  province = value[0]\n",
        "  district = value[1]\n",
        "\n",
        "  # extra filtering - replace based on regions dictionary above\n",
        "  for key, val in regions.items():\n",
        "    if key in province:\n",
        "      province = province.replace(key, val)\n",
        "      break\n",
        "\n",
        "  # add the province and state to the appropriate list\n",
        "  provinces.append(province)\n",
        "  districts.append(district)\n",
        "\n",
        "# format the header for the new column\n",
        "sheet.insert_cols(1, 1)\n",
        "column_number = 1\n",
        "column = str(chr(64 + column_number))\n",
        "sheet.column_dimensions[column].width = 30\n",
        "sheet.cell(row=1,column=1).font = copy(sheet['B1'].font)\n",
        "sheet.cell(row=1,column=1).fill = copy(sheet['B1'].fill)\n",
        "sheet['A1'] = 'Mappings'\n",
        "\n",
        "# get the prediction for the the provinces\n",
        "prediction = get_prediction(provinces, STATES)\n",
        "\n",
        "# color for cells with low confidence\n",
        "red = PatternFill(start_color='FF0000', end_color='FF0000', fill_type = 'solid')\n",
        "orange = PatternFill(start_color='FF8000', end_color='FF0000', fill_type = 'solid')\n",
        "\n",
        "index = 2\n",
        "\n",
        "for ip in range(len(districts)):\n",
        "\n",
        "  # Province > District\n",
        "  province = prediction[ip]\n",
        "  district = districts[ip]\n",
        "\n",
        "  # get the prediction for the state based on the province\n",
        "  result = get_prediction([district], PROVINCES[province[0]])\n",
        "\n",
        "  # write the data to the cell\n",
        "  sheet[f'A{index}'] = f'{province[0]}--{result[0][0]}'\n",
        "\n",
        "  # color the cell based on the confidence\n",
        "  if result[0][1] < 0.30:\n",
        "    sheet.cell(row=index,column=1).fill = red\n",
        "  elif result[0][1] < 0.40:\n",
        "    sheet.cell(row=index,column=1).fill = orange\n",
        "  index += 1\n",
        "\n",
        "# save the file\n",
        "dataframe.save(filename=output_file)"
      ]
    }
  ],
  "metadata": {
    "colab": {
      "provenance": [],
      "include_colab_link": true
    },
    "kernelspec": {
      "display_name": "Python 3",
      "name": "python3"
    },
    "language_info": {
      "name": "python"
    }
  },
  "nbformat": 4,
  "nbformat_minor": 0
}